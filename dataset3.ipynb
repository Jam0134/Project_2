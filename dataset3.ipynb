{
 "cells": [
  {
   "cell_type": "code",
   "execution_count": 2,
   "metadata": {},
   "outputs": [],
   "source": [
    "import pandas as pd\n",
    "from sqlalchemy import create_engine"
   ]
  },
  {
   "cell_type": "code",
   "execution_count": 5,
   "metadata": {},
   "outputs": [
    {
     "data": {
      "text/plain": [
       "Index(['name', 'classification', 'designation', 'average_height',\n",
       "       'skin_colors', 'hair_colors', 'eye_colors', 'average_lifespan',\n",
       "       'language', 'homeworld'],\n",
       "      dtype='object')"
      ]
     },
     "execution_count": 5,
     "metadata": {},
     "output_type": "execute_result"
    }
   ],
   "source": [
    "species = (r\"C:/Users/write/Project_2/species.csv\")\n",
    "species_df = pd.read_csv(species)\n",
    "species_df.head()\n",
    "species_df.columns"
   ]
  },
  {
   "cell_type": "code",
   "execution_count": 4,
   "metadata": {},
   "outputs": [
    {
     "data": {
      "text/plain": [
       "Index(['name', 'rotation_period', 'orbital_period', 'diameter', 'climate',\n",
       "       'gravity', 'terrain', 'surface_water', 'population'],\n",
       "      dtype='object')"
      ]
     },
     "execution_count": 4,
     "metadata": {},
     "output_type": "execute_result"
    }
   ],
   "source": [
    "planets = (r\"C:\\Users\\write\\Project_2\\planets.csv\")\n",
    "planets_df = pd.read_csv(planets)\n",
    "planets_df.head()\n",
    "planets_df.columns"
   ]
  },
  {
   "cell_type": "code",
   "execution_count": 55,
   "metadata": {},
   "outputs": [
    {
     "data": {
      "text/html": [
       "<div>\n",
       "<style scoped>\n",
       "    .dataframe tbody tr th:only-of-type {\n",
       "        vertical-align: middle;\n",
       "    }\n",
       "\n",
       "    .dataframe tbody tr th {\n",
       "        vertical-align: top;\n",
       "    }\n",
       "\n",
       "    .dataframe thead th {\n",
       "        text-align: right;\n",
       "    }\n",
       "</style>\n",
       "<table border=\"1\" class=\"dataframe\">\n",
       "  <thead>\n",
       "    <tr style=\"text-align: right;\">\n",
       "      <th></th>\n",
       "      <th>name</th>\n",
       "      <th>classification</th>\n",
       "      <th>skin_colors</th>\n",
       "      <th>hair_colors</th>\n",
       "      <th>eye_colors</th>\n",
       "      <th>language</th>\n",
       "    </tr>\n",
       "    <tr>\n",
       "      <th>homeworld</th>\n",
       "      <th></th>\n",
       "      <th></th>\n",
       "      <th></th>\n",
       "      <th></th>\n",
       "      <th></th>\n",
       "      <th></th>\n",
       "    </tr>\n",
       "  </thead>\n",
       "  <tbody>\n",
       "    <tr>\n",
       "      <th>Unkown</th>\n",
       "      <td>Yoda's species</td>\n",
       "      <td>mammal</td>\n",
       "      <td>green, yellow</td>\n",
       "      <td>brown, white</td>\n",
       "      <td>brown, green, yellow</td>\n",
       "      <td>Galactic basic</td>\n",
       "    </tr>\n",
       "    <tr>\n",
       "      <th>Trandosha</th>\n",
       "      <td>Trandoshan</td>\n",
       "      <td>reptile</td>\n",
       "      <td>brown, green</td>\n",
       "      <td>none</td>\n",
       "      <td>yellow, orange</td>\n",
       "      <td>Dosh</td>\n",
       "    </tr>\n",
       "    <tr>\n",
       "      <th>Mon Cala</th>\n",
       "      <td>Mon Calamari</td>\n",
       "      <td>amphibian</td>\n",
       "      <td>red, blue, brown, magenta</td>\n",
       "      <td>none</td>\n",
       "      <td>yellow</td>\n",
       "      <td>Mon Calamarian</td>\n",
       "    </tr>\n",
       "    <tr>\n",
       "      <th>Endor</th>\n",
       "      <td>Ewok</td>\n",
       "      <td>mammal</td>\n",
       "      <td>brown</td>\n",
       "      <td>white, brown, black</td>\n",
       "      <td>orange, brown</td>\n",
       "      <td>Ewokese</td>\n",
       "    </tr>\n",
       "    <tr>\n",
       "      <th>Sullust</th>\n",
       "      <td>Sullustan</td>\n",
       "      <td>mammal</td>\n",
       "      <td>pale</td>\n",
       "      <td>none</td>\n",
       "      <td>black</td>\n",
       "      <td>Sullutese</td>\n",
       "    </tr>\n",
       "  </tbody>\n",
       "</table>\n",
       "</div>"
      ],
      "text/plain": [
       "                     name classification                skin_colors  \\\n",
       "homeworld                                                             \n",
       "Unkown     Yoda's species         mammal              green, yellow   \n",
       "Trandosha      Trandoshan        reptile               brown, green   \n",
       "Mon Cala     Mon Calamari      amphibian  red, blue, brown, magenta   \n",
       "Endor                Ewok         mammal                      brown   \n",
       "Sullust         Sullustan         mammal                       pale   \n",
       "\n",
       "                   hair_colors            eye_colors        language  \n",
       "homeworld                                                             \n",
       "Unkown            brown, white  brown, green, yellow  Galactic basic  \n",
       "Trandosha                 none        yellow, orange            Dosh  \n",
       "Mon Cala                  none                yellow  Mon Calamarian  \n",
       "Endor      white, brown, black         orange, brown         Ewokese  \n",
       "Sullust                   none                 black       Sullutese  "
      ]
     },
     "execution_count": 55,
     "metadata": {},
     "output_type": "execute_result"
    }
   ],
   "source": [
    "species_cl = ['name', 'classification', \n",
    "       'skin_colors', 'hair_colors', 'eye_colors',\n",
    "       'language', 'homeworld']\n",
    "species_td = species_df[species_cl].copy()\n",
    "species_td.set_index(\"homeworld\", inplace=True)\n",
    "species_td = species_td.dropna()\n",
    "species_td.head()"
   ]
  },
  {
   "cell_type": "code",
   "execution_count": 56,
   "metadata": {},
   "outputs": [
    {
     "data": {
      "text/html": [
       "<div>\n",
       "<style scoped>\n",
       "    .dataframe tbody tr th:only-of-type {\n",
       "        vertical-align: middle;\n",
       "    }\n",
       "\n",
       "    .dataframe tbody tr th {\n",
       "        vertical-align: top;\n",
       "    }\n",
       "\n",
       "    .dataframe thead th {\n",
       "        text-align: right;\n",
       "    }\n",
       "</style>\n",
       "<table border=\"1\" class=\"dataframe\">\n",
       "  <thead>\n",
       "    <tr style=\"text-align: right;\">\n",
       "      <th></th>\n",
       "      <th>climate</th>\n",
       "      <th>gravity</th>\n",
       "      <th>terrain</th>\n",
       "      <th>surface_water</th>\n",
       "      <th>population</th>\n",
       "    </tr>\n",
       "    <tr>\n",
       "      <th>name</th>\n",
       "      <th></th>\n",
       "      <th></th>\n",
       "      <th></th>\n",
       "      <th></th>\n",
       "      <th></th>\n",
       "    </tr>\n",
       "  </thead>\n",
       "  <tbody>\n",
       "    <tr>\n",
       "      <th>Alderaan</th>\n",
       "      <td>temperate</td>\n",
       "      <td>1 standard</td>\n",
       "      <td>grasslands, mountains</td>\n",
       "      <td>40.0</td>\n",
       "      <td>2.000000e+09</td>\n",
       "    </tr>\n",
       "    <tr>\n",
       "      <th>Bespin</th>\n",
       "      <td>temperate</td>\n",
       "      <td>1.5 (surface), 1 standard (Cloud City)</td>\n",
       "      <td>gas giant</td>\n",
       "      <td>0.0</td>\n",
       "      <td>6.000000e+06</td>\n",
       "    </tr>\n",
       "    <tr>\n",
       "      <th>Cerea</th>\n",
       "      <td>temperate</td>\n",
       "      <td>1</td>\n",
       "      <td>verdant</td>\n",
       "      <td>20.0</td>\n",
       "      <td>4.500000e+08</td>\n",
       "    </tr>\n",
       "    <tr>\n",
       "      <th>Chandrila</th>\n",
       "      <td>temperate</td>\n",
       "      <td>1</td>\n",
       "      <td>plains, forests</td>\n",
       "      <td>40.0</td>\n",
       "      <td>1.200000e+09</td>\n",
       "    </tr>\n",
       "    <tr>\n",
       "      <th>Corellia</th>\n",
       "      <td>temperate</td>\n",
       "      <td>1 standard</td>\n",
       "      <td>plains, urban, hills, forests</td>\n",
       "      <td>70.0</td>\n",
       "      <td>3.000000e+09</td>\n",
       "    </tr>\n",
       "  </tbody>\n",
       "</table>\n",
       "</div>"
      ],
      "text/plain": [
       "             climate                                 gravity  \\\n",
       "name                                                           \n",
       "Alderaan   temperate                              1 standard   \n",
       "Bespin     temperate  1.5 (surface), 1 standard (Cloud City)   \n",
       "Cerea      temperate                                       1   \n",
       "Chandrila  temperate                                       1   \n",
       "Corellia   temperate                              1 standard   \n",
       "\n",
       "                                 terrain  surface_water    population  \n",
       "name                                                                   \n",
       "Alderaan           grasslands, mountains           40.0  2.000000e+09  \n",
       "Bespin                         gas giant            0.0  6.000000e+06  \n",
       "Cerea                            verdant           20.0  4.500000e+08  \n",
       "Chandrila                plains, forests           40.0  1.200000e+09  \n",
       "Corellia   plains, urban, hills, forests           70.0  3.000000e+09  "
      ]
     },
     "execution_count": 56,
     "metadata": {},
     "output_type": "execute_result"
    }
   ],
   "source": [
    "planets_cl = ['name', 'climate',\n",
    "       'gravity', 'terrain', 'surface_water', 'population']\n",
    "planets_td = planets_df[planets_cl].copy()\n",
    "planets_td.set_index(\"name\", inplace=True)\n",
    "planets_td = planets_td.dropna()\n",
    "planets_td.head()"
   ]
  },
  {
   "cell_type": "code",
   "execution_count": 57,
   "metadata": {},
   "outputs": [],
   "source": [
    "connection_string = \"postgres:MotMot721@localhost:5432/starwars\"\n",
    "engine = create_engine(f'postgresql://{connection_string}')"
   ]
  },
  {
   "cell_type": "code",
   "execution_count": 61,
   "metadata": {},
   "outputs": [
    {
     "data": {
      "text/plain": [
       "['charachters', 'planets', 'species', 'planets_3', 'species_3']"
      ]
     },
     "execution_count": 61,
     "metadata": {},
     "output_type": "execute_result"
    }
   ],
   "source": [
    "engine.table_names()"
   ]
  },
  {
   "cell_type": "code",
   "execution_count": 41,
   "metadata": {},
   "outputs": [],
   "source": [
    "planets_td.to_sql(name='planets_3', con=engine, if_exists='append', index=True)"
   ]
  },
  {
   "cell_type": "code",
   "execution_count": 59,
   "metadata": {},
   "outputs": [],
   "source": [
    "species_td.to_sql(name='species_3', con=engine, if_exists='append', index=True)"
   ]
  },
  {
   "cell_type": "code",
   "execution_count": null,
   "metadata": {},
   "outputs": [],
   "source": []
  }
 ],
 "metadata": {
  "kernelspec": {
   "display_name": "Python 3",
   "language": "python",
   "name": "python3"
  },
  "language_info": {
   "codemirror_mode": {
    "name": "ipython",
    "version": 3
   },
   "file_extension": ".py",
   "mimetype": "text/x-python",
   "name": "python",
   "nbconvert_exporter": "python",
   "pygments_lexer": "ipython3",
   "version": "3.7.6"
  }
 },
 "nbformat": 4,
 "nbformat_minor": 4
}
